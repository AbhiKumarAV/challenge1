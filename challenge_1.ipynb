{
 "cells": [
  {
   "cell_type": "code",
   "execution_count": 1,
   "id": "15bbd0c4",
   "metadata": {},
   "outputs": [],
   "source": [
    "s = \"this is My First Python programming class and i am learNING python string and its function\""
   ]
  },
  {
   "cell_type": "code",
   "execution_count": 2,
   "id": "cd2578d1",
   "metadata": {},
   "outputs": [
    {
     "data": {
      "text/plain": [
       "'h   r tnrrmglsnimeNGyosi dtfco'"
      ]
     },
     "execution_count": 2,
     "metadata": {},
     "output_type": "execute_result"
    }
   ],
   "source": [
    "#1 . Try to extract data from index one to index 300 with a jump of 3\n",
    "s[1:300:3]"
   ]
  },
  {
   "cell_type": "code",
   "execution_count": 3,
   "id": "b7bb0879",
   "metadata": {},
   "outputs": [
    {
     "data": {
      "text/plain": [
       "'noitcnuf sti dna gnirts nohtyp GNINrael ma i dna ssalc gnimmargorp nohtyP tsriF yM si siht'"
      ]
     },
     "execution_count": 3,
     "metadata": {},
     "output_type": "execute_result"
    }
   ],
   "source": [
    "#2. Try to reverse a string without using reverse function \n",
    "s[::-1]"
   ]
  },
  {
   "cell_type": "code",
   "execution_count": 4,
   "id": "790d0231",
   "metadata": {},
   "outputs": [
    {
     "data": {
      "text/plain": [
       "'THIS IS MY FIRST PYTHON PROGRAMMING CLASS AND I AM LEARNING PYTHON STRING AND ITS FUNCTION'"
      ]
     },
     "execution_count": 4,
     "metadata": {},
     "output_type": "execute_result"
    }
   ],
   "source": [
    "#3. Try to split a string after conversion of entire string in uppercase\n",
    "s.upper()"
   ]
  },
  {
   "cell_type": "code",
   "execution_count": 5,
   "id": "2ad2142f",
   "metadata": {},
   "outputs": [
    {
     "data": {
      "text/plain": [
       "['this',\n",
       " 'is',\n",
       " 'My',\n",
       " 'First',\n",
       " 'Python',\n",
       " 'programming',\n",
       " 'class',\n",
       " 'and',\n",
       " 'i',\n",
       " 'am',\n",
       " 'learNING',\n",
       " 'python',\n",
       " 'string',\n",
       " 'and',\n",
       " 'its',\n",
       " 'function']"
      ]
     },
     "execution_count": 5,
     "metadata": {},
     "output_type": "execute_result"
    }
   ],
   "source": [
    "s.split(\" \")"
   ]
  },
  {
   "cell_type": "code",
   "execution_count": 6,
   "id": "37074335",
   "metadata": {},
   "outputs": [
    {
     "data": {
      "text/plain": [
       "'this is My First Python programming class and i am learNING python string and its function'"
      ]
     },
     "execution_count": 6,
     "metadata": {},
     "output_type": "execute_result"
    }
   ],
   "source": [
    "s"
   ]
  },
  {
   "cell_type": "code",
   "execution_count": 7,
   "id": "a6df9b42",
   "metadata": {},
   "outputs": [
    {
     "data": {
      "text/plain": [
       "'this is my first python programming class and i am learning python string and its function'"
      ]
     },
     "execution_count": 7,
     "metadata": {},
     "output_type": "execute_result"
    }
   ],
   "source": [
    "#4. try to convert the whole string into lower case\n",
    "s.lower()"
   ]
  },
  {
   "cell_type": "code",
   "execution_count": 8,
   "id": "8eaa1d96",
   "metadata": {},
   "outputs": [
    {
     "data": {
      "text/plain": [
       "'This Is My First Python Programming Class And I Am Learning Python String And Its Function'"
      ]
     },
     "execution_count": 8,
     "metadata": {},
     "output_type": "execute_result"
    }
   ],
   "source": [
    "#5 . Try to capitalize the whole string\n",
    "s.title()"
   ]
  },
  {
   "cell_type": "code",
   "execution_count": 9,
   "id": "bf64f420",
   "metadata": {},
   "outputs": [
    {
     "data": {
      "text/plain": [
       "'This is my first python programming class and i am learning python string and its function'"
      ]
     },
     "execution_count": 9,
     "metadata": {},
     "output_type": "execute_result"
    }
   ],
   "source": [
    "s.capitalize()"
   ]
  },
  {
   "cell_type": "markdown",
   "id": "261ed01f",
   "metadata": {},
   "source": [
    "# 6 . Write a diference between isalnum() and isalpha()\n",
    "\n",
    "isalnum(): checks whether the string contains alphabet or number. If any one of them is present in a string then returns True\n",
    "\n",
    "isalpha(): checks whether the string contains alphabet. If the string contains only alphabets then returns True , else returns False\n"
   ]
  },
  {
   "cell_type": "code",
   "execution_count": 16,
   "id": "44ddefa2",
   "metadata": {},
   "outputs": [
    {
     "data": {
      "text/plain": [
       "'in      eu      ron'"
      ]
     },
     "execution_count": 16,
     "metadata": {},
     "output_type": "execute_result"
    }
   ],
   "source": [
    "#7. Try to give an example of expand tab\n",
    "s1=\"in\\teu\\tron\"\n",
    "s1.expandtabs()"
   ]
  },
  {
   "cell_type": "code",
   "execution_count": 9,
   "id": "e52761bc",
   "metadata": {},
   "outputs": [
    {
     "data": {
      "text/plain": [
       "'python'"
      ]
     },
     "execution_count": 9,
     "metadata": {},
     "output_type": "execute_result"
    }
   ],
   "source": [
    "#8 . Give an example of strip , lstrip and rstrip \n",
    "s2=\"   python  \" \n",
    "s2.strip()"
   ]
  },
  {
   "cell_type": "code",
   "execution_count": 10,
   "id": "a57f0b6e",
   "metadata": {},
   "outputs": [
    {
     "data": {
      "text/plain": [
       "'python  '"
      ]
     },
     "execution_count": 10,
     "metadata": {},
     "output_type": "execute_result"
    }
   ],
   "source": [
    "s2=\"   python  \" \n",
    "s2.lstrip()"
   ]
  },
  {
   "cell_type": "code",
   "execution_count": 11,
   "id": "e3a2fb65",
   "metadata": {},
   "outputs": [
    {
     "data": {
      "text/plain": [
       "'   python'"
      ]
     },
     "execution_count": 11,
     "metadata": {},
     "output_type": "execute_result"
    }
   ],
   "source": [
    "s2=\"   python  \" \n",
    "s2.rstrip()"
   ]
  },
  {
   "cell_type": "code",
   "execution_count": 31,
   "id": "c3c90c8c",
   "metadata": {},
   "outputs": [
    {
     "data": {
      "text/plain": [
       "'rbhishek kumrr rv'"
      ]
     },
     "execution_count": 31,
     "metadata": {},
     "output_type": "execute_result"
    }
   ],
   "source": [
    "#9.  Replace a string character by another character by taking your own example \n",
    "s=\"abhishek kumar av\"\n",
    "old=\"a\"\n",
    "new=\"r\"\n",
    "s.replace(old,new)\n",
    "\n"
   ]
  },
  {
   "cell_type": "code",
   "execution_count": 41,
   "id": "b0756b7d",
   "metadata": {},
   "outputs": [
    {
     "data": {
      "text/plain": [
       "'       center       '"
      ]
     },
     "execution_count": 41,
     "metadata": {},
     "output_type": "execute_result"
    }
   ],
   "source": [
    "#10 . Try  to give a definition of string center function with an example \n",
    "\"\"\"center() function returns a new string with a fillchar (by default space) as per the mentioned width\"\"\"\n",
    "\n",
    "s=\"center\"\n",
    "s.center(20)\n"
   ]
  },
  {
   "cell_type": "markdown",
   "id": "60e8fa6c",
   "metadata": {},
   "source": [
    "# 11 . Write your own definition of compiler and interpretor without copy paste form internet in your own language\n",
    "\n",
    "compiler: convert source code to binary code where entire code is compiled\n",
    "    \n",
    "interpreter: compile source code to byte code and then to machine code where conversion take place line by line"
   ]
  },
  {
   "cell_type": "markdown",
   "id": "5abf8445",
   "metadata": {},
   "source": [
    "# 12 . Python is a interpreted of compiled language give a clear ans with your understanding\n",
    " \n",
    " In python, source code is compiled to byte code which is platform independent and then it is interpreted on python virtual machine which is platform dependent to machine code"
   ]
  },
  {
   "cell_type": "markdown",
   "id": "36c4f7e2",
   "metadata": {},
   "source": [
    "# 13 . Try to write a usecase of python with your understanding\n",
    "\n",
    "1. Youtube : is originally written in python and mysql\n",
    "2. Yahoo!  : Yahoo maps uses python\n",
    "3. Google  : Many components of SE are written in python\n",
    "4. Dropbox : Web-based file hosting service implemented using python. Both                  Dropbox server and desktop client software are primarily written                in python.\n",
    "\n",
    "5. Uses of python in Data Analytics :\n",
    "Weather forecasting,Scientific analysis,ad targeting, risk management analysis\n",
    "6. Traditional uses of python :\n",
    "AI,GUIs,Image processing,Embedded scripting,Internet scripting,cpython"
   ]
  }
 ],
 "metadata": {
  "kernelspec": {
   "display_name": "Python 3 (ipykernel)",
   "language": "python",
   "name": "python3"
  },
  "language_info": {
   "codemirror_mode": {
    "name": "ipython",
    "version": 3
   },
   "file_extension": ".py",
   "mimetype": "text/x-python",
   "name": "python",
   "nbconvert_exporter": "python",
   "pygments_lexer": "ipython3",
   "version": "3.9.7"
  }
 },
 "nbformat": 4,
 "nbformat_minor": 5
}
